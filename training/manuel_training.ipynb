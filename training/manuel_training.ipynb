{
 "cells": [
  {
   "cell_type": "markdown",
   "id": "7ba08cc9",
   "metadata": {
    "gradient": {
     "editing": false,
     "id": "002e5457",
     "kernelId": "b0e14188-ad2e-4698-8125-5d8669b38203"
    }
   },
   "source": [
    "# Manuel Training Test"
   ]
  },
  {
   "cell_type": "code",
   "execution_count": null,
   "id": "443a88df",
   "metadata": {
    "gradient": {
     "editing": false,
     "id": "fb412268",
     "kernelId": "b0e14188-ad2e-4698-8125-5d8669b38203"
    }
   },
   "outputs": [],
   "source": [
    "!pip install -Uqq fastbook\n",
    "!pip install --user graphviz\n",
    "import fastbook\n",
    "fastbook.setup_book()"
   ]
  },
  {
   "cell_type": "code",
   "execution_count": null,
   "id": "14b8d516",
   "metadata": {
    "gradient": {
     "editing": false,
     "id": "dcd0117b",
     "kernelId": "b0e14188-ad2e-4698-8125-5d8669b38203"
    }
   },
   "outputs": [],
   "source": [
    "from fastbook import *"
   ]
  },
  {
   "cell_type": "code",
   "execution_count": null,
   "id": "87957dd5",
   "metadata": {
    "gradient": {
     "editing": false,
     "id": "ed9f2054",
     "kernelId": "b0e14188-ad2e-4698-8125-5d8669b38203"
    }
   },
   "outputs": [],
   "source": [
    "from fastai.vision.all import *\n",
    "path = untar_data(URLs.PETS)/'images'\n",
    "\n",
    "def is_cat(x): return x[0].isupper()\n",
    "dls = ImageDataLoaders.from_name_func(\n",
    "    path, get_image_files(path), valid_pct=0.2, seed=42,\n",
    "    label_func=is_cat, item_tfms=Resize(224))\n",
    "\n",
    "learn = cnn_learner(dls, resnet34, metrics=error_rate)\n",
    "learn.fine_tune(1)"
   ]
  },
  {
   "cell_type": "code",
   "execution_count": null,
   "id": "e557b279",
   "metadata": {
    "gradient": {
     "editing": false,
     "id": "54d3487e",
     "kernelId": "b0e14188-ad2e-4698-8125-5d8669b38203"
    }
   },
   "outputs": [],
   "source": [
    "uploader = SimpleNamespace(data = ['images/chapter1_cat_example.jpg', 'images/cat1.jpg', 'images/cat2.jpg', 'images/dog1.jpg', 'images/tiger1.jpg'])"
   ]
  },
  {
   "cell_type": "code",
   "execution_count": null,
   "id": "018d6702",
   "metadata": {
    "gradient": {
     "editing": false,
     "id": "5e509cb4",
     "kernelId": "b0e14188-ad2e-4698-8125-5d8669b38203"
    }
   },
   "outputs": [],
   "source": [
    "for data in uploader.data:\n",
    "    img = PILImage.create(data)\n",
    "    is_cat_prediction,_,probs = learn.predict(img)\n",
    "    print(f\"Is this a cat?: {is_cat_prediction}.\")\n",
    "    print(f\"Probability it's a cat: {probs[1].item():.6f}\")"
   ]
  },
  {
   "cell_type": "code",
   "execution_count": null,
   "id": "8cc5b65a",
   "metadata": {},
   "outputs": [],
   "source": [
    "export_path = Path()\n",
    "learn.path = export_path\n",
    "learn.export(fname = path/\"cat_model.pkl\")"
   ]
  },
  {
   "cell_type": "code",
   "execution_count": null,
   "id": "5b2fbfc5",
   "metadata": {},
   "outputs": [],
   "source": [
    "path = Path()\n",
    "if len(path.ls(file_exts=\".pkl\")) == 0: raise Exception(\"Model not exported\")"
   ]
  }
 ],
 "metadata": {
  "kernelspec": {
   "display_name": "Python 3 (ipykernel)",
   "language": "python",
   "name": "python3"
  },
  "language_info": {
   "codemirror_mode": {
    "name": "ipython",
    "version": 3
   },
   "file_extension": ".py",
   "mimetype": "text/x-python",
   "name": "python",
   "nbconvert_exporter": "python",
   "pygments_lexer": "ipython3",
   "version": "3.8.12"
  }
 },
 "nbformat": 4,
 "nbformat_minor": 5
}
