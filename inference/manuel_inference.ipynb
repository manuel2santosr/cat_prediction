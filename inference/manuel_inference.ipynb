{
 "cells": [
  {
   "cell_type": "markdown",
   "id": "2abfce9a",
   "metadata": {},
   "source": [
    "# Manuel Inference Test"
   ]
  },
  {
   "cell_type": "code",
   "execution_count": null,
   "id": "7a81448b",
   "metadata": {},
   "outputs": [],
   "source": [
    "from fastai.vision.all import *\n",
    "from fastai.vision.widgets import *"
   ]
  },
  {
   "cell_type": "markdown",
   "id": "94a43314",
   "metadata": {},
   "source": [
    "### Load Trained Model"
   ]
  },
  {
   "cell_type": "code",
   "execution_count": null,
   "id": "5dd4216b",
   "metadata": {},
   "outputs": [],
   "source": [
    "learn_inf = load_learner(path/'cat_model.pkl')"
   ]
  },
  {
   "cell_type": "markdown",
   "id": "775fd26f",
   "metadata": {},
   "source": [
    "### UI"
   ]
  },
  {
   "cell_type": "code",
   "execution_count": null,
   "id": "382fb3e3",
   "metadata": {},
   "outputs": [],
   "source": [
    "!pip install voila\n",
    "!jupyter serverextension enable --sys-prefix voila "
   ]
  },
  {
   "cell_type": "code",
   "execution_count": null,
   "id": "59d34c97",
   "metadata": {},
   "outputs": [],
   "source": [
    "button_upload = widgets.FileUpload()\n",
    "output_display = widgets.Output()\n",
    "prediction_label = widgets.Label()\n",
    "button_run = widgets.Button(description='Classify')\n",
    "\n",
    "VBox([widgets.Label('Cat or Not?'), \n",
    "      button_upload, button_run, output_display, prediction_label])"
   ]
  },
  {
   "cell_type": "code",
   "execution_count": null,
   "id": "a3160176",
   "metadata": {},
   "outputs": [],
   "source": [
    "def on_click_classify(change):\n",
    "    image = PILImage.create(button_upload.data[-1])\n",
    "    output_display.clear_output()\n",
    "    with output_display: display(image.to_thumb(128,128))\n",
    "    prediction, prediction_index, probability = learn_inf.predict(image)\n",
    "    prediction_label.value = f\"Prediction: {prediction}. Probability: {probability[prediction_index]:.04f}\"\n",
    "\n",
    "button_run.on_click(on_click_classify)"
   ]
  }
 ],
 "metadata": {
  "kernelspec": {
   "display_name": "Python 3 (ipykernel)",
   "language": "python",
   "name": "python3"
  },
  "language_info": {
   "codemirror_mode": {
    "name": "ipython",
    "version": 3
   },
   "file_extension": ".py",
   "mimetype": "text/x-python",
   "name": "python",
   "nbconvert_exporter": "python",
   "pygments_lexer": "ipython3",
   "version": "3.8.12"
  }
 },
 "nbformat": 4,
 "nbformat_minor": 5
}
